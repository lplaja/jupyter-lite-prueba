{
  "metadata": {
    "kernelspec": {
      "name": "python",
      "display_name": "Python (Pyodide)",
      "language": "python"
    },
    "language_info": {
      "codemirror_mode": {
        "name": "python",
        "version": 3
      },
      "file_extension": ".py",
      "mimetype": "text/x-python",
      "name": "python",
      "nbconvert_exporter": "python",
      "pygments_lexer": "ipython3",
      "version": "3.8"
    }
  },
  "nbformat_minor": 4,
  "nbformat": 4,
  "cells": [
    {
      "cell_type": "code",
      "source": "%pip install ipywidgets\n%pip install ipympl\n\nimport numpy as np\nimport matplotlib.pyplot as plt\nfrom mpl_toolkits.mplot3d import Axes3D\nfrom mpl_toolkits.mplot3d.proj3d import proj_transform\nfrom matplotlib import cbook, cm\nfrom matplotlib.colors import LightSource\nimport matplotlib.tri as mtri\nfrom matplotlib.patches import FancyArrowPatch, ArrowStyle\nfrom time import sleep\n\n\nfrom ipywidgets import interact, interactive, fixed, interact_manual\nimport ipywidgets as widgets\n\n#%matplotlib widget\n#%matplotlib inline\n\nclass Arrow3D(FancyArrowPatch):\n\n    def __init__(self, x, y, z, dx, dy, dz, *args, **kwargs):\n        super().__init__((0, 0), (0, 0), *args, **kwargs)\n        self._xyz = (x, y, z)\n        self._dxdydz = (dx, dy, dz)\n\n    def draw(self, renderer):\n        x1, y1, z1 = self._xyz\n        dx, dy, dz = self._dxdydz\n        x2, y2, z2 = (x1 + dx, y1 + dy, z1 + dz)\n\n        xs, ys, zs = proj_transform((x1, x2), (y1, y2), (z1, z2), self.axes.M)\n        self.set_positions((xs[0], ys[0]), (xs[1], ys[1]))\n        super().draw(renderer)\n        \n    def do_3d_projection(self, renderer=None):\n        x1, y1, z1 = self._xyz\n        dx, dy, dz = self._dxdydz\n        x2, y2, z2 = (x1 + dx, y1 + dy, z1 + dz)\n\n        xs, ys, zs = proj_transform((x1, x2), (y1, y2), (z1, z2), self.axes.M)\n        self.set_positions((xs[0], ys[0]), (xs[1], ys[1]))\n\n        return np.min(zs) \n\ndef _arrow3D(ax, x, y, z, dx, dy, dz, *args, **kwargs):\n    '''Add an 3d arrow to an `Axes3D` instance.'''\n\n    style = ArrowStyle('Fancy', head_length=2, head_width=2, tail_width=1)\n    arrow = Arrow3D(x, y, z, dx, dy, dz, *args, arrowstyle=style,**kwargs)\n    ax.add_artist(arrow)\n    return arrow\n\n\ndef polarization(amp_ratio=1, phix=0, phiy=0, tmax=4):\n\n    elev=20\n    azim=-20\n    roll=0\n    \n    tt = np.arange(0,  tmax*np.pi, 0.1)\n\n    fig = plt.figure(figsize=(7,7))\n    ax1 = fig.add_subplot(1,1,1, projection='3d')\n    ax1.view_init(elev=elev, azim=azim)\n    ax1.set_xlim(-5,4*np.pi)\n    ax1.set_ylim(-1.1,1.1)\n    ax1.set_zlim(-1.1,1.1)\n    ax1.set_box_aspect(aspect=(8*np.pi,8,8))\n\n    ax1.xaxis.set_ticklabels([])\n    ax1.yaxis.set_ticklabels([])\n    ax1.zaxis.set_ticklabels([])\n    #ax1.set_axis_off()\n\n# Make a mesh in the space of parameterisation variables u and v\n    t = tt\n    \n    # This is the Mobius mapping, taking a u, v pair and returning an x, y, z\n    # triple\n    amp=np.sqrt(1+amp_ratio**2)\n    x = 1/amp*np.sin(-t+phix*np.pi)\n    y = amp_ratio/amp*np.sin(-t+phiy*np.pi)\n    z = t\n \n    # Plot the projection on the XY plane\n    p1=ax1.plot(np.zeros_like(z)-5,  y, x, color='r', linestyle='solid',linewidth=1)\n    p2=ax1.plot(np.zeros(50)-5, np.cos(np.linspace(0,2*np.pi,50)) , np.sin(np.linspace(0,2*np.pi,50)), color='k', \n             linestyle='dashed',linewidth=1)\n\n\n    #ax2.plot(np.zeros_like(t),  y, x, color='r', linestyle='solid',linewidth=1)\n\n    # Plot the 3D curve\n    p3=ax1.plot(z, y, x, color='b',linewidth=1)\n    #ax2.plot(t, y, np.zeros_like(x), label='3D curve', color='b',linewidth=1)\n    #ax2.plot(t, np.zeros_like(y), x, label='3D curve', color='b',linewidth=1)\n\n    \n    #ax2.set_ylim(-1.1,1.1)\n    #ax2.set_zlim(-1.1,1.1)\n    \n    #plt.show()\n\n    p4=_arrow3D(ax1, t[-1],0,0,\n           0,y[-1],x[-1],\n           mutation_scale=6,\n           ec ='blue',\n           fc='red', alpha=1,lw=1)\n\n    p5=_arrow3D(ax1, -5,0,0,\n           0,y[-1],x[-1],\n           mutation_scale=6,\n           ec ='blue',\n           fc='red', alpha=1,lw=1)\n\n    for it, ix, iy in zip(t[0::2],x[0::2],y[0::2]):\n        _arrow3D(ax1, it,0,0,\n           0,iy,ix,\n           mutation_scale=6,\n           ec ='blue',\n           fc='red', alpha=0.2,lw=1)\n\n    plt.show()\n\n \ninteract(polarization, tmax=(0,4,0.1),amp_ratio=(0,1,0.1),phix=(-1,1,0.1),phiy=(-1,1,0.1));\n\n",
      "metadata": {
        "trusted": true
      },
      "outputs": [
        {
          "output_type": "display_data",
          "data": {
            "text/plain": "interactive(children=(FloatSlider(value=1.0, description='amp_ratio', max=1.0), FloatSlider(value=0.0, descrip…",
            "application/vnd.jupyter.widget-view+json": {
              "version_major": 2,
              "version_minor": 0,
              "model_id": "4edaf8205aaa4f4ab1f6a4cb8ad19c5f"
            }
          },
          "metadata": {}
        }
      ],
      "execution_count": 1
    },
    {
      "cell_type": "code",
      "source": "",
      "metadata": {
        "trusted": true
      },
      "outputs": [],
      "execution_count": null
    }
  ]
}